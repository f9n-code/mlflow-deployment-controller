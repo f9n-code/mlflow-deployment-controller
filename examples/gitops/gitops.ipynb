{
 "cells": [
  {
   "cell_type": "markdown",
   "metadata": {},
   "source": [
    "# Gitops example"
   ]
  },
  {
   "cell_type": "markdown",
   "metadata": {},
   "source": [
    "# Install deployment controller with gitops enabled"
   ]
  },
  {
   "cell_type": "code",
   "execution_count": 8,
   "metadata": {},
   "outputs": [
    {
     "name": "stdout",
     "output_type": "stream",
     "text": [
      "NAME: mlflow-controller-staging\n",
      "LAST DEPLOYED: Mon Dec 19 14:29:32 2022\n",
      "NAMESPACE: mlflow\n",
      "STATUS: deployed\n",
      "REVISION: 1\n",
      "TEST SUITE: None\n"
     ]
    }
   ],
   "source": [
    "! helm install mlflow-controller-staging ../../charts/mlflow-controller  -n mlflow --set image.tag=f20fd19f28f1f39ced794e0a2f7736f403447d91 --set gitops.enabled=true   --set mlflow.backend=blob --set gitops.repository=github.com/rocket9-code/model-deployments   --set gitops.deploymentLocation=staging --set mlflow.stage=Staging \\--set mlflow.namespace=staging"
   ]
  },
  {
   "cell_type": "code",
   "execution_count": 11,
   "metadata": {},
   "outputs": [
    {
     "name": "stdout",
     "output_type": "stream",
     "text": [
      "pod/mlflow-controller-staging-787fd66687-gxl8z condition met\n"
     ]
    }
   ],
   "source": [
    "! kubectl wait --for=condition=ready pod -l 'app.kubernetes.io/instance in (mlflow-controller-staging)' --timeout=180s -n mlflow"
   ]
  },
  {
   "cell_type": "code",
   "execution_count": null,
   "metadata": {},
   "outputs": [],
   "source": [
    "! kubectl port-forward -n mlflow svc/mlflow-service 5000:5000 "
   ]
  },
  {
   "cell_type": "markdown",
   "metadata": {},
   "source": [
    "# Register Mlflow models"
   ]
  },
  {
   "cell_type": "code",
   "execution_count": 12,
   "metadata": {},
   "outputs": [
    {
     "name": "stdout",
     "output_type": "stream",
     "text": [
      "   sepal length (cm)  sepal width (cm)  petal length (cm)  petal width (cm)  \\\n",
      "0                5.1               3.5                1.4               0.2   \n",
      "1                4.9               3.0                1.4               0.2   \n",
      "2                4.7               3.2                1.3               0.2   \n",
      "3                4.6               3.1                1.5               0.2   \n",
      "4                5.0               3.6                1.4               0.2   \n",
      "\n",
      "   target  \n",
      "0       0  \n",
      "1       0  \n",
      "2       0  \n",
      "3       0  \n",
      "4       0  \n",
      "IRIS train df shape\n",
      "(105, 4)\n",
      "(105,)\n",
      "IRIS test df shape\n",
      "(45, 4)\n",
      "(45,)\n"
     ]
    },
    {
     "name": "stderr",
     "output_type": "stream",
     "text": [
      "Registered model 'iris demo0' already exists. Creating a new version of this model...\n",
      "2022/12/19 14:32:24 INFO mlflow.tracking._model_registry.client: Waiting up to 300 seconds for model version to finish creation.                     Model name: iris demo0, version 2\n",
      "Created version '2' of model 'iris demo0'.\n"
     ]
    },
    {
     "name": "stdout",
     "output_type": "stream",
     "text": [
      "   sepal length (cm)  sepal width (cm)  petal length (cm)  petal width (cm)  \\\n",
      "0                5.1               3.5                1.4               0.2   \n",
      "1                4.9               3.0                1.4               0.2   \n",
      "2                4.7               3.2                1.3               0.2   \n",
      "3                4.6               3.1                1.5               0.2   \n",
      "4                5.0               3.6                1.4               0.2   \n",
      "\n",
      "   target  \n",
      "0       0  \n",
      "1       0  \n",
      "2       0  \n",
      "3       0  \n",
      "4       0  \n",
      "IRIS train df shape\n",
      "(105, 4)\n",
      "(105,)\n",
      "IRIS test df shape\n",
      "(45, 4)\n",
      "(45,)\n"
     ]
    },
    {
     "name": "stderr",
     "output_type": "stream",
     "text": [
      "Registered model 'iris demo1' already exists. Creating a new version of this model...\n",
      "2022/12/19 14:32:44 INFO mlflow.tracking._model_registry.client: Waiting up to 300 seconds for model version to finish creation.                     Model name: iris demo1, version 2\n",
      "Created version '2' of model 'iris demo1'.\n"
     ]
    },
    {
     "name": "stdout",
     "output_type": "stream",
     "text": [
      "   sepal length (cm)  sepal width (cm)  petal length (cm)  petal width (cm)  \\\n",
      "0                5.1               3.5                1.4               0.2   \n",
      "1                4.9               3.0                1.4               0.2   \n",
      "2                4.7               3.2                1.3               0.2   \n",
      "3                4.6               3.1                1.5               0.2   \n",
      "4                5.0               3.6                1.4               0.2   \n",
      "\n",
      "   target  \n",
      "0       0  \n",
      "1       0  \n",
      "2       0  \n",
      "3       0  \n",
      "4       0  \n",
      "IRIS train df shape\n",
      "(105, 4)\n",
      "(105,)\n",
      "IRIS test df shape\n",
      "(45, 4)\n",
      "(45,)\n"
     ]
    },
    {
     "name": "stderr",
     "output_type": "stream",
     "text": [
      "Registered model 'iris demo2' already exists. Creating a new version of this model...\n",
      "2022/12/19 14:33:02 INFO mlflow.tracking._model_registry.client: Waiting up to 300 seconds for model version to finish creation.                     Model name: iris demo2, version 2\n",
      "Created version '2' of model 'iris demo2'.\n"
     ]
    },
    {
     "name": "stdout",
     "output_type": "stream",
     "text": [
      "   sepal length (cm)  sepal width (cm)  petal length (cm)  petal width (cm)  \\\n",
      "0                5.1               3.5                1.4               0.2   \n",
      "1                4.9               3.0                1.4               0.2   \n",
      "2                4.7               3.2                1.3               0.2   \n",
      "3                4.6               3.1                1.5               0.2   \n",
      "4                5.0               3.6                1.4               0.2   \n",
      "\n",
      "   target  \n",
      "0       0  \n",
      "1       0  \n",
      "2       0  \n",
      "3       0  \n",
      "4       0  \n",
      "IRIS train df shape\n",
      "(105, 4)\n",
      "(105,)\n",
      "IRIS test df shape\n",
      "(45, 4)\n",
      "(45,)\n"
     ]
    },
    {
     "name": "stderr",
     "output_type": "stream",
     "text": [
      "Registered model 'iris demo3' already exists. Creating a new version of this model...\n",
      "2022/12/19 14:33:18 INFO mlflow.tracking._model_registry.client: Waiting up to 300 seconds for model version to finish creation.                     Model name: iris demo3, version 2\n",
      "Created version '2' of model 'iris demo3'.\n"
     ]
    },
    {
     "name": "stdout",
     "output_type": "stream",
     "text": [
      "   sepal length (cm)  sepal width (cm)  petal length (cm)  petal width (cm)  \\\n",
      "0                5.1               3.5                1.4               0.2   \n",
      "1                4.9               3.0                1.4               0.2   \n",
      "2                4.7               3.2                1.3               0.2   \n",
      "3                4.6               3.1                1.5               0.2   \n",
      "4                5.0               3.6                1.4               0.2   \n",
      "\n",
      "   target  \n",
      "0       0  \n",
      "1       0  \n",
      "2       0  \n",
      "3       0  \n",
      "4       0  \n",
      "IRIS train df shape\n",
      "(105, 4)\n",
      "(105,)\n",
      "IRIS test df shape\n",
      "(45, 4)\n",
      "(45,)\n"
     ]
    },
    {
     "name": "stderr",
     "output_type": "stream",
     "text": [
      "Registered model 'iris demo4' already exists. Creating a new version of this model...\n",
      "2022/12/19 14:33:35 INFO mlflow.tracking._model_registry.client: Waiting up to 300 seconds for model version to finish creation.                     Model name: iris demo4, version 2\n",
      "Created version '2' of model 'iris demo4'.\n"
     ]
    }
   ],
   "source": [
    "import os\n",
    "\n",
    "import mlflow\n",
    "import mlflow.sklearn\n",
    "import pandas as pd\n",
    "from minio import Minio\n",
    "from mlflow.tracking import MlflowClient\n",
    "from sklearn import datasets\n",
    "from sklearn.ensemble import RandomForestClassifier\n",
    "from sklearn.metrics import roc_auc_score\n",
    "from sklearn.model_selection import train_test_split\n",
    "\n",
    "\n",
    "os.environ[\"MLFLOW_TRACKING_URI\"] = \"http://localhost:5000\"\n",
    "os.environ[\"AZURE_STORAGE_ACCESS_KEY\"] = \"\"\n",
    "os.environ[\"AZURE_STORAGE_CONNECTION_STRING\"] = \"\"\n",
    "\n",
    "\n",
    "def main(MODEL_NAME=\"iris gitops\", stage=\"Staging\"):\n",
    "\n",
    "    iris = datasets.load_iris()\n",
    "    iris_df = pd.DataFrame(iris.data, columns=iris.feature_names)\n",
    "    y = iris.target\n",
    "    iris_df[\"target\"] = y\n",
    "\n",
    "    print(iris_df.head())\n",
    "\n",
    "    train_df, test_df = train_test_split(\n",
    "        iris_df, test_size=0.3, random_state=42, stratify=iris_df[\"target\"]\n",
    "    )\n",
    "    X_train = train_df[\n",
    "        [\n",
    "            \"sepal length (cm)\",\n",
    "            \"sepal width (cm)\",\n",
    "            \"petal length (cm)\",\n",
    "            \"petal width (cm)\",\n",
    "        ]\n",
    "    ]\n",
    "    y_train = train_df[\"target\"]\n",
    "\n",
    "    X_test = test_df[\n",
    "        [\n",
    "            \"sepal length (cm)\",\n",
    "            \"sepal width (cm)\",\n",
    "            \"petal length (cm)\",\n",
    "            \"petal width (cm)\",\n",
    "        ]\n",
    "    ]\n",
    "    y_test = test_df[\"target\"]\n",
    "\n",
    "    EXPERIMENT_NAME = MODEL_NAME\n",
    "\n",
    "    print(\"IRIS train df shape\")\n",
    "    print(X_train.shape)\n",
    "    print(y_train.shape)\n",
    "\n",
    "    print(\"IRIS test df shape\")\n",
    "    print(X_test.shape)\n",
    "    print(y_test.shape)\n",
    "\n",
    "    mlflow_client = MlflowClient()\n",
    "\n",
    "    # Create an MLFlow experiment, if not already exists\n",
    "    experiment_details = mlflow_client.get_experiment_by_name(EXPERIMENT_NAME)\n",
    "\n",
    "    if experiment_details is not None:\n",
    "        experiment_id = experiment_details.experiment_id\n",
    "    else:\n",
    "        experiment_id = mlflow.create_experiment(EXPERIMENT_NAME)\n",
    "\n",
    "    # Start an MLFlow experiment run\n",
    "    with mlflow.start_run(\n",
    "        experiment_id=experiment_id, run_name=\"iris dataset rf run\"\n",
    "    ) as run:\n",
    "        # Log parameters\n",
    "\n",
    "        mlflow.log_param(\"max_depth\", 10)\n",
    "        mlflow.log_param(\"random_state\", 0)\n",
    "        mlflow.log_param(\"n_estimators\", 100)\n",
    "        clf = RandomForestClassifier(n_estimators=100, max_depth=10, random_state=0)\n",
    "        clf.fit(X_train, y_train)\n",
    "        iris_predict_y = clf.predict(X_test)\n",
    "\n",
    "        roc_auc_score_val = roc_auc_score(\n",
    "            y_test, clf.predict_proba(X_test), multi_class=\"ovr\"\n",
    "        )\n",
    "        mlflow.log_metric(\"test roc_auc_score\", roc_auc_score_val)\n",
    "\n",
    "        # Log model\n",
    "        result = mlflow.sklearn.log_model(clf, artifact_path=\"model\")\n",
    "\n",
    "        # Register a new version\n",
    "    result = mlflow.register_model(result.model_uri, MODEL_NAME)\n",
    "\n",
    "    client = MlflowClient()\n",
    "    client.transition_model_version_stage(\n",
    "        name=MODEL_NAME, version=result.version, stage=stage\n",
    "    )\n",
    "\n",
    "\n",
    "for i in range(5):\n",
    "    main(MODEL_NAME=f\"iris demo{i}\")"
   ]
  },
  {
   "cell_type": "markdown",
   "metadata": {},
   "source": [
    "# write deployment file and commit to git repository"
   ]
  },
  {
   "cell_type": "code",
   "execution_count": null,
   "metadata": {},
   "outputs": [],
   "source": [
    "! git clone https://github.com/rocket9-code/model-deployments"
   ]
  },
  {
   "cell_type": "code",
   "execution_count": null,
   "metadata": {},
   "outputs": [],
   "source": [
    "dep_yaml = \"\"\"apiVersion: machinelearning.seldon.io/v1\n",
    "kind: SeldonDeployment\n",
    "metadata:\n",
    "  name: mlflow-var-test1\n",
    "spec:\n",
    "  name: iris\n",
    "  predictors:\n",
    "  - graph:\n",
    "      children:\n",
    "        - name: step-one\n",
    "          modelUri: '{{ mlflow.blob[\"iris demo1\"] }}'\n",
    "          envSecretRefName: seldon-rclone-secret\n",
    "          implementation: MLFLOW_SERVER\n",
    "          type: MODEL\n",
    "          children: \n",
    "              - name: step-two\n",
    "                modelUri: '{{ mlflow.blob[\"iris demo2\"] }}'\n",
    "                envSecretRefName: seldon-rclone-secret\n",
    "                implementation: MLFLOW_SERVER\n",
    "                type: MODEL\n",
    "                children: []\n",
    "        - name: step-three\n",
    "          implementation: MLFLOW_SERVER\n",
    "          modelUri: '{{ mlflow.blob[\"iris demo3\"] }}'\n",
    "          envSecretRefName: seldon-rclone-secret\n",
    "          type: MODEL\n",
    "          children: []\n",
    "      implementation: MLFLOW_SERVER\n",
    "      modelUri: '{{ mlflow.blob[\"iris demo4\"] }}'\n",
    "      envSecretRefName: seldon-rclone-secret\n",
    "      logger:\n",
    "        url: http://broker-ingress.knative-eventing.svc.cluster.local/demo/default\n",
    "        mode: all\n",
    "      name: classifier\n",
    "    name: default\n",
    "    replicas: 1\"\"\"\n",
    "with open(\"model-deployments/staging/seldon-deploy-test1.yaml\", \"x\") as f:\n",
    "    f.write(dep_yaml)"
   ]
  },
  {
   "cell_type": "code",
   "execution_count": null,
   "metadata": {},
   "outputs": [],
   "source": [
    "! cd model-deployments &&  git add staging/seldon-deploy-test1.yaml"
   ]
  },
  {
   "cell_type": "code",
   "execution_count": null,
   "metadata": {},
   "outputs": [],
   "source": [
    "! cd model-deployments &&  git commit -m \"test deploy yaml\" \n",
    "! cd model-deployments &&  git push"
   ]
  },
  {
   "cell_type": "markdown",
   "metadata": {},
   "source": [
    "# wait for the controller to pickup the changes and creates a new deploy yaml"
   ]
  },
  {
   "cell_type": "code",
   "execution_count": 13,
   "metadata": {},
   "outputs": [],
   "source": [
    "import time\n",
    "\n",
    "from kubernetes import client as KubeClient\n",
    "from kubernetes import config\n",
    "\n",
    "try:\n",
    "    config.load_kube_config()\n",
    "except config.ConfigException:\n",
    "    config.load_incluster_config()\n",
    "kube_client = KubeClient.CustomObjectsApi()"
   ]
  },
  {

   "cell_type": "markdown",
   "metadata": {},
   "source": [
    "you can see the controller updated the model uri with latest model versions"
   ]
  },
  {
   "cell_type": "code",
   "execution_count": 15,
   "metadata": {},
   "outputs": [
    {
     "name": "stdout",
     "output_type": "stream",
     "text": [
      "wasbs://artifacts/mlflow/8/4083c71c946e47e19422218b69a5d67c/artifacts/model wasbs://artifacts/mlflow/9/10e8b48f3cfc451da361fabccb6e1c08/artifacts/model wasbs://artifacts/mlflow/10/262bee84b7dd4b039973084383880b57/artifacts/model wasbs://artifacts/mlflow/11/0dd0c915e3e0446d9139fb81b0b6ad83/artifacts/model\n"
     ]
    }
   ],
   "source": [
    "manifest = kube_client.get_namespaced_custom_object(\n",
    "    group=\"machinelearning.seldon.io\",\n",
    "    version=\"v1\",\n",
    "    plural=\"seldondeployments\",\n",
    "    namespace=\"staging\",\n",
    "    name=\"mlflow-var\",\n",
    ")\n",
    "demo1 = manifest[\"spec\"][\"predictors\"][0][\"graph\"][\"children\"][0][\"modelUri\"]\n",
    "demo2 = manifest[\"spec\"][\"predictors\"][0][\"graph\"][\"children\"][0][\"children\"][0][\n",
    "    \"modelUri\"\n",
    "]\n",
    "demo3 = manifest[\"spec\"][\"predictors\"][0][\"graph\"][\"children\"][1][\"modelUri\"]\n",
    "demo4 = manifest[\"spec\"][\"predictors\"][0][\"graph\"][\"modelUri\"]\n",
    "\n",
    "print(demo1, demo2, demo3, demo4)"
   ]
  },
  {
   "cell_type": "code",
   "execution_count": 16,
   "metadata": {},
   "outputs": [
    {
     "name": "stdout",
     "output_type": "stream",
     "text": [
      "release \"mlflow-controller-staging\" uninstalled\n"
     ]
    }
   ],
   "source": [
    "! helm delete mlflow-controller-staging -n mlflow"
   ]
  },
  {
   "cell_type": "code",
   "execution_count": null,
   "metadata": {},
   "outputs": [],
   "source": []
  }
 ],
 "metadata": {
  "kernelspec": {
   "display_name": "Python 3",
   "language": "python",
   "name": "python3"
  },
  "language_info": {
   "codemirror_mode": {
    "name": "ipython",
    "version": 3
   },
   "file_extension": ".py",
   "mimetype": "text/x-python",
   "name": "python",
   "nbconvert_exporter": "python",
   "pygments_lexer": "ipython3",
   "version": "3.7.7"
  }
 },
 "nbformat": 4,
 "nbformat_minor": 4
}
