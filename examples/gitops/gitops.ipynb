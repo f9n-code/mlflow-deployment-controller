{
 "cells": [
  {
   "cell_type": "markdown",
   "metadata": {},
   "source": [
    "# Gitops example"
   ]
  },
  {
   "cell_type": "markdown",
   "metadata": {},
   "source": [
    "# Install deployment controller with gitops enabled"
   ]
  },
  {
   "cell_type": "code",
   "execution_count": null,
   "metadata": {},
   "outputs": [],
   "source": [
    "! helm install mlflow-controller charts/mlflow-controller  -n mlflow --set gitops.enabled=true   --set mlflow.backend=blob"
   ]
  },
  {
   "cell_type": "markdown",
   "metadata": {},
   "source": [
    "# Register Mlflow models"
   ]
  },
  {
   "cell_type": "code",
   "execution_count": null,
   "metadata": {},
   "outputs": [],
   "source": [
    "import os\n",
    "\n",
    "import mlflow\n",
    "import mlflow.sklearn\n",
    "import pandas as pd\n",
    "from minio import Minio\n",
    "from mlflow.tracking import MlflowClient\n",
    "from sklearn import datasets\n",
    "from sklearn.ensemble import RandomForestClassifier\n",
    "from sklearn.metrics import roc_auc_score\n",
    "from sklearn.model_selection import train_test_split\n",
    "\n",
    "\n",
    "os.environ['MLFLOW_TRACKING_URI']='http://localhost:5000'\n",
    "os.environ['AZURE_STORAGE_ACCESS_KEY']=\"\"\n",
    "os.environ['AZURE_STORAGE_CONNECTION_STRING']= \"\"\n",
    "\n",
    "def main(MODEL_NAME=\"iris gitops\", stage=\"Staging\"):\n",
    "\n",
    "    iris = datasets.load_iris()\n",
    "    iris_df = pd.DataFrame(iris.data, columns=iris.feature_names)\n",
    "    y = iris.target\n",
    "    iris_df[\"target\"] = y\n",
    "\n",
    "    print(iris_df.head())\n",
    "\n",
    "    train_df, test_df = train_test_split(\n",
    "        iris_df, test_size=0.3, random_state=42, stratify=iris_df[\"target\"]\n",
    "    )\n",
    "    X_train = train_df[\n",
    "        [\n",
    "            \"sepal length (cm)\",\n",
    "            \"sepal width (cm)\",\n",
    "            \"petal length (cm)\",\n",
    "            \"petal width (cm)\",\n",
    "        ]\n",
    "    ]\n",
    "    y_train = train_df[\"target\"]\n",
    "\n",
    "    X_test = test_df[\n",
    "        [\n",
    "            \"sepal length (cm)\",\n",
    "            \"sepal width (cm)\",\n",
    "            \"petal length (cm)\",\n",
    "            \"petal width (cm)\",\n",
    "        ]\n",
    "    ]\n",
    "    y_test = test_df[\"target\"]\n",
    "\n",
    "    EXPERIMENT_NAME = MODEL_NAME\n",
    "\n",
    "    print(\"IRIS train df shape\")\n",
    "    print(X_train.shape)\n",
    "    print(y_train.shape)\n",
    "\n",
    "    print(\"IRIS test df shape\")\n",
    "    print(X_test.shape)\n",
    "    print(y_test.shape)\n",
    "\n",
    "    mlflow_client = MlflowClient()\n",
    "\n",
    "    # Create an MLFlow experiment, if not already exists\n",
    "    experiment_details = mlflow_client.get_experiment_by_name(EXPERIMENT_NAME)\n",
    "\n",
    "    if experiment_details is not None:\n",
    "        experiment_id = experiment_details.experiment_id\n",
    "    else:\n",
    "        experiment_id = mlflow.create_experiment(EXPERIMENT_NAME)\n",
    "\n",
    "    # Start an MLFlow experiment run\n",
    "    with mlflow.start_run(\n",
    "        experiment_id=experiment_id, run_name=\"iris dataset rf run\"\n",
    "    ) as run:\n",
    "        # Log parameters\n",
    "\n",
    "        mlflow.log_param(\"max_depth\", 10)\n",
    "        mlflow.log_param(\"random_state\", 0)\n",
    "        mlflow.log_param(\"n_estimators\", 100)\n",
    "        clf = RandomForestClassifier(n_estimators=100, max_depth=10, random_state=0)\n",
    "        clf.fit(X_train, y_train)\n",
    "        iris_predict_y = clf.predict(X_test)\n",
    "\n",
    "        roc_auc_score_val = roc_auc_score(\n",
    "            y_test, clf.predict_proba(X_test), multi_class=\"ovr\"\n",
    "        )\n",
    "        mlflow.log_metric(\"test roc_auc_score\", roc_auc_score_val)\n",
    "\n",
    "        # Log model\n",
    "        result = mlflow.sklearn.log_model(clf, artifact_path=\"model\")\n",
    "\n",
    "        # Register a new version\n",
    "    result = mlflow.register_model(result.model_uri, MODEL_NAME)\n",
    "\n",
    "    client = MlflowClient()\n",
    "    client.transition_model_version_stage(\n",
    "        name=MODEL_NAME, version=result.version, stage=stage\n",
    "    )\n",
    "\n",
    "\n",
    "\n",
    "for i in range(5):\n",
    "    main(MODEL_NAME=f\"iris demo{i}\")\n"
   ]
  },
  {
   "cell_type": "markdown",
   "metadata": {},
   "source": [
    "# write deployment file and commit to git repository"
   ]
  },
  {
   "cell_type": "code",
   "execution_count": null,
   "metadata": {},
   "outputs": [],
   "source": [
    "! git clone https://github.com/rocket9-code/model-deployments"
   ]
  },
  {
   "cell_type": "code",
   "execution_count": null,
   "metadata": {},
   "outputs": [],
   "source": [
    "dep_yaml =\"\"\"apiVersion: machinelearning.seldon.io/v1\n",
    "kind: SeldonDeployment\n",
    "metadata:\n",
    "  name: mlflow-var-test1\n",
    "spec:\n",
    "  name: iris\n",
    "  predictors:\n",
    "  - graph:\n",
    "      children:\n",
    "        - name: step-one\n",
    "          modelUri: '{{ mlflow.blob[\"iris demo1\"] }}'\n",
    "          envSecretRefName: seldon-rclone-secret\n",
    "          implementation: MLFLOW_SERVER\n",
    "          type: MODEL\n",
    "          children: \n",
    "              - name: step-two\n",
    "                modelUri: '{{ mlflow.blob[\"iris demo2\"] }}'\n",
    "                envSecretRefName: seldon-rclone-secret\n",
    "                implementation: MLFLOW_SERVER\n",
    "                type: MODEL\n",
    "                children: []\n",
    "        - name: step-three\n",
    "          implementation: MLFLOW_SERVER\n",
    "          modelUri: '{{ mlflow.blob[\"iris demo3\"] }}'\n",
    "          envSecretRefName: seldon-rclone-secret\n",
    "          type: MODEL\n",
    "          children: []\n",
    "      implementation: MLFLOW_SERVER\n",
    "      modelUri: '{{ mlflow.blob[\"iris demo4\"] }}'\n",
    "      envSecretRefName: seldon-rclone-secret\n",
    "      logger:\n",
    "        url: http://broker-ingress.knative-eventing.svc.cluster.local/demo/default\n",
    "        mode: all\n",
    "      name: classifier\n",
    "    name: default\n",
    "    replicas: 1\"\"\"\n",
    "with open('seldon-deploy-test1.yaml', 'x') as f:\n",
    "    f.write(dep_yaml)"
   ]
  },
  {
   "cell_type": "code",
   "execution_count": null,
   "metadata": {},
   "outputs": [],
   "source": [
    "! git add seldon-deploy-test1.yaml"
   ]
  },
  {
   "cell_type": "code",
   "execution_count": null,
   "metadata": {},
   "outputs": [],
   "source": [
    "! git commit -m \"test deploy yaml\" \n",
    "! git push"
   ]
  },
  {
   "cell_type": "markdown",
   "metadata": {},
   "source": [
    "# wait for the controller to pickup the changes and creates a new deploy yaml"
   ]
  },
  {
   "cell_type": "code",
   "execution_count": null,
   "metadata": {},
   "outputs": [],
   "source": [
    "import time\n",
    "\n",
    "from kubernetes import client as KubeClient\n",
    "from kubernetes import config\n",
    "try:\n",
    "    config.load_kube_config()\n",
    "except config.ConfigException:\n",
    "    config.load_incluster_config()\n",
    "kube_client = KubeClient.CustomObjectsApi()"
   ]
  },
  {
   "cell_type": "code",
   "execution_count": null,
   "metadata": {},
   "outputs": [],
   "source": [
    "manifest = kube_client.get_namespaced_custom_object(\n",
    "    group=\"machinelearning.seldon.io\",\n",
    "    version=\"v1\",\n",
    "    plural=\"seldondeployments\",\n",
    "    namespace=\"staging\",\n",
    "    name=\"mlflow-var-test1\",\n",
    ")\n",
    "demo1 = manifest[\"spec\"][\"predictors\"][0][\"graph\"][\"children\"][0][\"modelUri\"]\n",
    "demo2 = manifest[\"spec\"][\"predictors\"][0][\"graph\"][\"children\"][0][\"children\"][0][\n",
    "    \"modelUri\"\n",
    "]\n",
    "demo3 = manifest[\"spec\"][\"predictors\"][0][\"graph\"][\"children\"][1][\"modelUri\"]\n",
    "demo4 = manifest[\"spec\"][\"predictors\"][0][\"graph\"][\"modelUri\"]\n",
    "\n",
    "print(demo1, demo2, demo3, demo4)\n"
   ]
  }
 ],
 "metadata": {
  "kernelspec": {
   "display_name": "Python 3",
   "language": "python",
   "name": "python3"
  },
  "language_info": {
   "codemirror_mode": {
    "name": "ipython",
    "version": 3
   },
   "file_extension": ".py",
   "mimetype": "text/x-python",
   "name": "python",
   "nbconvert_exporter": "python",
   "pygments_lexer": "ipython3",
   "version": "3.7.7"
  }
 },
 "nbformat": 4,
 "nbformat_minor": 4
}
